{
  "nbformat": 4,
  "nbformat_minor": 0,
  "metadata": {
    "colab": {
      "provenance": [],
      "authorship_tag": "ABX9TyMFlt2C4X1441f7HuBxHev4",
      "include_colab_link": true
    },
    "kernelspec": {
      "name": "python3",
      "display_name": "Python 3"
    },
    "language_info": {
      "name": "python"
    }
  },
  "cells": [
    {
      "cell_type": "markdown",
      "metadata": {
        "id": "view-in-github",
        "colab_type": "text"
      },
      "source": [
        "<a href=\"https://colab.research.google.com/github/Majito0316/Sistemas-Ecuaciones-Lineales/blob/main/Soluci%C3%B3n_Num%C3%A9rica_de_Sistemas_de_Ecuaciones_Lineales.ipynb\" target=\"_parent\"><img src=\"https://colab.research.google.com/assets/colab-badge.svg\" alt=\"Open In Colab\"/></a>"
      ]
    },
    {
      "cell_type": "markdown",
      "source": [
        "# Ejercicio 1: Eliminación de Gauss aplicada en la retropropagación de redes neuronales (Planteamiento 1)\n"
      ],
      "metadata": {
        "id": "OHdfHav_mreX"
      }
    },
    {
      "cell_type": "code",
      "source": [
        "import numpy as np\n",
        "\n",
        "# Matriz de coeficientes\n",
        "A = np.array([[2, 3, 1],\n",
        "              [4, 1, 2],\n",
        "              [3, 4, 2]], dtype=float)\n",
        "\n",
        "# Vector de términos independientes\n",
        "b = np.array([0.5, -1.0, 1.5], dtype=float)\n",
        "\n",
        "# Resolviendo el sistema de ecuaciones usando eliminación de Gauss\n",
        "sol = np.linalg.solve(A, b)\n",
        "\n",
        "# Mostrar la solución\n",
        "print(\"Solución del sistema:\")\n",
        "print(f\"x = {sol[0]:.4f}, y = {sol[1]:.4f}, z = {sol[2]:.4f}\")\n"
      ],
      "metadata": {
        "colab": {
          "base_uri": "https://localhost:8080/"
        },
        "id": "uPpNjTMLm0K5",
        "outputId": "d88d2c4a-2f57-4b89-e416-0cf1f3838c59"
      },
      "execution_count": 2,
      "outputs": [
        {
          "output_type": "stream",
          "name": "stdout",
          "text": [
            "Solución del sistema:\n",
            "x = -1.3000, y = 0.4000, z = 1.9000\n"
          ]
        }
      ]
    },
    {
      "cell_type": "markdown",
      "source": [
        "# Ejercicio 1: Eliminación de Gauss aplicada en la retropropagación de redes neuronales (Planteamiento 2)\n"
      ],
      "metadata": {
        "id": "RoJZiZ7koNcM"
      }
    },
    {
      "cell_type": "code",
      "source": [
        "import numpy as np\n",
        "\n",
        "# Matriz de coeficientes\n",
        "A = np.array([[3, -0.1, -0.2],\n",
        "              [0.1, 0.7, -0.3],\n",
        "              [0.3, -0.2, 10]], dtype=float)\n",
        "\n",
        "# Vector de términos independientes\n",
        "b = np.array([7.85, -19.3, 71.4], dtype=float)\n",
        "\n",
        "# Resolviendo el sistema de ecuaciones usando eliminación de Gauss\n",
        "sol = np.linalg.solve(A, b)\n",
        "\n",
        "# Mostrar la solución\n",
        "print(\"Solución del sistema:\")\n",
        "print(f\"x = {sol[0]:.4f}, y = {sol[1]:.4f}, z = {sol[2]:.4f}\")\n"
      ],
      "metadata": {
        "colab": {
          "base_uri": "https://localhost:8080/"
        },
        "id": "cf-QjSLwoPBs",
        "outputId": "f533cb43-473a-43e7-ef70-adb770cb2ac8"
      },
      "execution_count": 3,
      "outputs": [
        {
          "output_type": "stream",
          "name": "stdout",
          "text": [
            "Solución del sistema:\n",
            "x = 2.2191, y = -25.0719, z = 6.5720\n"
          ]
        }
      ]
    },
    {
      "cell_type": "markdown",
      "source": [
        "# Ejercicio 2: Matriz Inversa para calcular los pesos ajustados"
      ],
      "metadata": {
        "id": "Wc7zYUFMpgGk"
      }
    },
    {
      "cell_type": "code",
      "source": [
        "# Matriz de coeficientes\n",
        "A = np.array([[3, -0.1, -0.2],\n",
        "              [0.1, 0.7, -0.3],\n",
        "              [0.3, -0.2, 10]], dtype=float)\n",
        "\n",
        "# Vector de salida deseada\n",
        "b = np.array([7.85, -19.3, 71.4], dtype=float)\n",
        "\n",
        "# Calcular la matriz inversa\n",
        "A_inv = np.linalg.inv(A)\n",
        "\n",
        "# Multiplicar A_inv por el vector b\n",
        "sol = np.dot(A_inv, b)\n",
        "\n",
        "# Mostrar la solución\n",
        "print(\"Pesos ajustados:\")\n",
        "print(f\"w1 = {sol[0]:.4f}, w2 = {sol[1]:.4f}, w3 = {sol[2]:.4f}\")"
      ],
      "metadata": {
        "colab": {
          "base_uri": "https://localhost:8080/"
        },
        "id": "bAZlK9nNpnPk",
        "outputId": "3c066326-a3e2-4e20-85a1-14c6787dd64f"
      },
      "execution_count": 4,
      "outputs": [
        {
          "output_type": "stream",
          "name": "stdout",
          "text": [
            "Pesos ajustados:\n",
            "w1 = 2.2191, w2 = -25.0719, w3 = 6.5720\n"
          ]
        }
      ]
    },
    {
      "cell_type": "markdown",
      "source": [
        "# Ejercicio 3: Método de Jacobi aplicado a la actualización de los parámetros de la red"
      ],
      "metadata": {
        "id": "d9SaDgiop0Da"
      }
    },
    {
      "cell_type": "code",
      "source": [
        "def jacobi(A, b, x0, tol=1e-10, max_iter=1000): # Definimos Jacobi\n",
        "    n = len(b)\n",
        "    x = x0 # Aproximacion inicial al vector\n",
        "    for k in range(max_iter):\n",
        "        x_new = np.zeros_like(x) # Vextor nuevo lleno de ceros para almacenar los numeros que va a calcular\n",
        "        for i in range(n): # Iterar por cada una de las filas\n",
        "            s = sum(A[i][j] * x[j] for j in range(n) if i != j) # Calcular terminos que no incluya x_i (Suma de los productos)\n",
        "            x_new[i] = (b[i] - s) / A[i][i] # Actualizar la estimación\n",
        "        if np.linalg.norm(x_new - x, ord=np.inf) < tol: # Verificar la convergencia (Tolerancia para la convergencia 10^-10)\n",
        "            return x_new\n",
        "        x = x_new\n",
        "    return x\n",
        "\n",
        "# Matriz de coeficientes\n",
        "A = np.array([[3, -0.1, -0.2],\n",
        "              [0.1, 0.7, -0.3],\n",
        "              [0.3, -0.2, 10]], dtype=float)\n",
        "\n",
        "# Vector de errores\n",
        "b = np.array([7.85, -19.3, 71.4], dtype=float)\n",
        "\n",
        "# Aproximación inicial\n",
        "x0 = np.zeros_like(b)\n",
        "\n",
        "# Aplicar el método de Jacobi\n",
        "sol = jacobi(A, b, x0)\n",
        "\n",
        "print(\"Pesos ajustados usando Jacobi:\")\n",
        "print(sol)"
      ],
      "metadata": {
        "colab": {
          "base_uri": "https://localhost:8080/"
        },
        "id": "5H5NnfHDqS7a",
        "outputId": "17dd064f-765f-4031-ffac-01080b687732"
      },
      "execution_count": 5,
      "outputs": [
        {
          "output_type": "stream",
          "name": "stdout",
          "text": [
            "Pesos ajustados usando Jacobi:\n",
            "[  2.21907032 -25.07187128   6.57199046]\n"
          ]
        }
      ]
    },
    {
      "cell_type": "markdown",
      "source": [
        "# Ejercicio 4: Método Iterativo de Gauss-Seidel para actualización de parámetros"
      ],
      "metadata": {
        "id": "xtqOamyGq6Bv"
      }
    },
    {
      "cell_type": "code",
      "source": [
        "def gauss_seidel(A, b, x0, tol=1e-10, max_iter=1000):\n",
        "    n = len(b)\n",
        "    x = x0\n",
        "    for k in range(max_iter):\n",
        "        x_new = np.copy(x)\n",
        "        for i in range(n):\n",
        "            s1 = sum(A[i][j] * x_new[j] for j in range(i))\n",
        "            s2 = sum(A[i][j] * x[j] for j in range(i+1, n))\n",
        "            x_new[i] = (b[i] - s1 - s2) / A[i][i]\n",
        "        if np.linalg.norm(x_new - x, ord=np.inf) < tol:\n",
        "            return x_new, k\n",
        "        x = x_new\n",
        "    return x, max_iter\n",
        "\n",
        "# Matriz de coeficientes\n",
        "A = np.array([[10, -1, 2],\n",
        "              [-1, 11, -1],\n",
        "              [2, -1, 10]], dtype=float)\n",
        "\n",
        "# Vector de términos independientes\n",
        "b = np.array([5, 6, 7], dtype=float)\n",
        "\n",
        "# Valor inicial de las incógnitas\n",
        "x0 = np.zeros_like(b)\n",
        "\n",
        "# Resolver el sistema usando el método de Gauss-Seidel\n",
        "sol, iteraciones = gauss_seidel(A, b, x0)\n",
        "\n",
        "# Mostrar la solución y el número de iteraciones\n",
        "print(\"Solución del sistema:\")\n",
        "print(sol)\n",
        "print(f\"Número de iteraciones: {iteraciones}\")\n",
        "\n"
      ],
      "metadata": {
        "colab": {
          "base_uri": "https://localhost:8080/"
        },
        "id": "DJJSjBo1q_-K",
        "outputId": "36efbc40-d3d0-4e81-b4f9-61fe5aafc1fe"
      },
      "execution_count": 9,
      "outputs": [
        {
          "output_type": "stream",
          "name": "stdout",
          "text": [
            "Solución del sistema:\n",
            "[0.42884615 0.64615385 0.67884615]\n",
            "Número de iteraciones: 8\n"
          ]
        }
      ]
    },
    {
      "cell_type": "markdown",
      "source": [
        "# Ejercicio 5: Descomposición de Cholesky aplicada a una red neuronal"
      ],
      "metadata": {
        "id": "BjagNA59sHSZ"
      }
    },
    {
      "cell_type": "code",
      "source": [
        "from scipy.linalg import cholesky\n",
        "\n",
        "# Matriz y vector\n",
        "A = np.array([[25, 15, -5],\n",
        "              [15, 18, 0],\n",
        "              [-5, 0, 11]], dtype=float)\n",
        "\n",
        "b = np.array([350, 400, 200], dtype=float)\n",
        "\n",
        "# Descomposición de Cholesky\n",
        "L = cholesky(A, lower=True)\n",
        "\n",
        "# Resolver Ly = b\n",
        "y = np.linalg.solve(L, b)\n",
        "\n",
        "# Resolver L^T x = y\n",
        "x = np.linalg.solve(L.T, y)\n",
        "\n",
        "print(\"Pesos ajustados usando Cholesky:\")\n",
        "print(x)"
      ],
      "metadata": {
        "colab": {
          "base_uri": "https://localhost:8080/"
        },
        "id": "cBccptp_sLbi",
        "outputId": "ce8a0346-237f-4fed-bb72-39c331b9bb1e"
      },
      "execution_count": 10,
      "outputs": [
        {
          "output_type": "stream",
          "name": "stdout",
          "text": [
            "Pesos ajustados usando Cholesky:\n",
            "[10.51851852 13.45679012 22.96296296]\n"
          ]
        }
      ]
    }
  ]
}